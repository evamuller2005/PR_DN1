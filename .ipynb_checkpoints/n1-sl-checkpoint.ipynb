{
 "cells": [
  {
   "cell_type": "markdown",
   "metadata": {
    "lang": "sl"
   },
   "source": [
    "## Priprava podatkov, osnovne statistike in vizualizacija\n",
    "\n",
    "Podatkovno rudarjenje, naloga, `23.02.2025`  \n",
    "**`Eva Müller`**"
   ]
  },
  {
   "cell_type": "markdown",
   "metadata": {
    "lang": "sl"
   },
   "source": [
    "Neizogiben del vsakega projekta na področju podatkovnega rudarjenja je iskanje,\n",
    "urejanje in priprava podatkov. V tej nalogi boste spoznali primer podatkovne\n",
    "zbirke in uporabili postopke za pretvorbo podatkov v ustrezno obliko ter pregled in\n",
    "prikaz osnovnih statistik."
   ]
  },
  {
   "cell_type": "markdown",
   "metadata": {
    "lang": "sl"
   },
   "source": [
    "### Podatki\n",
    "\n",
    "V nalogi boste pregledali in pripravili podatke gledanosti Hollywoodskih filmov\n",
    "zbirke [MovieLens](https://grouplens.org/datasets/movielens/) v obdobju **1995-2016**.\n",
    "\n",
    "Iste podatke boste uporabili v vseh nalogah, zato jih dodobra spoznajte. Gre za podatkovno zbirko za\n",
    "vrednotenje priporočilnih sistemov, ki vsebuje gledalce ter njihove ocene za posamezni film na lestvici 1 do 5. \n",
    "Poleg osnovne matrike uporabnikov in ocen vsebuje še dodatne podatke o filmih (npr. žanr, datum, oznake,\n",
    "igralci).\n",
    "\n",
    "Podatki so v mapi `./podatki/ml-latest-small`. Podatkovna zbirka vsebuje naslednje datoteke:\n",
    "\n",
    "* ratings.csv: podatki o uporabnikih in ocenah,\n",
    "* movies.csv: podatki o žanrih filmov,\n",
    "* cast.csv: podatki o igralcih,\n",
    "* tags.csv: podatki o oznakah (ang. \\emph{tags}),\n",
    "* links.csv: povezave na sorodne podatkovne zbirke.\n",
    "\n",
    "\n",
    "Pred pričetkom reševanja naloge si dobro oglejte podatke in datoteko **README.txt**. Podrobnosti o zbirki lahko preberete na [spletni strani](http://files.grouplens.org/datasets/movielens/ml-latest-small-README.html).\n",
    "\n",
    "Pripravite metode za nalaganje podatkov v ustrezne podatkovne strukture. Te vam bodo prišle\n",
    "prav tudi pri nadaljnjih nalogah.\n",
    "Bodite pozorni na velikost podatkov."
   ]
  },
  {
   "cell_type": "markdown",
   "metadata": {
    "lang": "sl"
   },
   "source": [
    "Zapišite kodo za branje datotek in pripravo ustreznih matrik (in drugih struktur) podatkov, ki jih boste uporabi pri odgovarjanju na spodnja vprašanja.\n",
    "\n",
    "Kodo lahko razdelite v več celic."
   ]
  },
  {
   "cell_type": "code",
   "execution_count": 115,
   "metadata": {
    "ExecuteTime": {
     "end_time": "2025-03-22T15:52:52.664860Z",
     "start_time": "2025-03-22T15:52:52.596257Z"
    }
   },
   "outputs": [],
   "source": [
    "import numpy as np\n",
    "import pandas as pd\n",
    "import matplotlib.pyplot as plt\n",
    "from datetime import datetime\n",
    "\n",
    "cast = pd.read_csv( 'podatki/ml-latest-small/cast.csv')\n",
    "ratings = pd.read_csv ('podatki/ml-latest-small/ratings.csv')\n",
    "movies = pd.read_csv('podatki/ml-latest-small/movies.csv')\n",
    "links = pd.read_csv ('podatki/ml-latest-small/links.csv')\n",
    "tags = pd.read_csv('podatki/ml-latest-small/tags.csv')\n"
   ]
  },
  {
   "cell_type": "markdown",
   "metadata": {},
   "source": [
    "nabor ratingov v ratings tabeli"
   ]
  },
  {
   "cell_type": "code",
   "execution_count": 76,
   "metadata": {},
   "outputs": [
    {
     "data": {
      "text/plain": [
       "array([2.5, 3. , 2. , 4. , 3.5, 1. , 5. , 4.5, 1.5, 0.5])"
      ]
     },
     "execution_count": 76,
     "metadata": {},
     "output_type": "execute_result"
    }
   ],
   "source": [
    "pd.unique(ratings[\"rating\"])"
   ]
  },
  {
   "cell_type": "markdown",
   "metadata": {},
   "source": [
    "iz ratingov, vsi ki imajo rating 4.0"
   ]
  },
  {
   "cell_type": "code",
   "execution_count": 94,
   "metadata": {},
   "outputs": [
    {
     "data": {
      "text/html": [
       "<div>\n",
       "<style scoped>\n",
       "    .dataframe tbody tr th:only-of-type {\n",
       "        vertical-align: middle;\n",
       "    }\n",
       "\n",
       "    .dataframe tbody tr th {\n",
       "        vertical-align: top;\n",
       "    }\n",
       "\n",
       "    .dataframe thead th {\n",
       "        text-align: right;\n",
       "    }\n",
       "</style>\n",
       "<table border=\"1\" class=\"dataframe\">\n",
       "  <thead>\n",
       "    <tr style=\"text-align: right;\">\n",
       "      <th></th>\n",
       "      <th>userId</th>\n",
       "      <th>movieId</th>\n",
       "      <th>rating</th>\n",
       "      <th>timestamp</th>\n",
       "    </tr>\n",
       "  </thead>\n",
       "  <tbody>\n",
       "    <tr>\n",
       "      <th>4</th>\n",
       "      <td>1</td>\n",
       "      <td>1172</td>\n",
       "      <td>4.0</td>\n",
       "      <td>1260759205</td>\n",
       "    </tr>\n",
       "    <tr>\n",
       "      <th>12</th>\n",
       "      <td>1</td>\n",
       "      <td>1953</td>\n",
       "      <td>4.0</td>\n",
       "      <td>1260759191</td>\n",
       "    </tr>\n",
       "    <tr>\n",
       "      <th>13</th>\n",
       "      <td>1</td>\n",
       "      <td>2105</td>\n",
       "      <td>4.0</td>\n",
       "      <td>1260759139</td>\n",
       "    </tr>\n",
       "    <tr>\n",
       "      <th>20</th>\n",
       "      <td>2</td>\n",
       "      <td>10</td>\n",
       "      <td>4.0</td>\n",
       "      <td>835355493</td>\n",
       "    </tr>\n",
       "    <tr>\n",
       "      <th>23</th>\n",
       "      <td>2</td>\n",
       "      <td>47</td>\n",
       "      <td>4.0</td>\n",
       "      <td>835355552</td>\n",
       "    </tr>\n",
       "    <tr>\n",
       "      <th>...</th>\n",
       "      <td>...</td>\n",
       "      <td>...</td>\n",
       "      <td>...</td>\n",
       "      <td>...</td>\n",
       "    </tr>\n",
       "    <tr>\n",
       "      <th>99992</th>\n",
       "      <td>671</td>\n",
       "      <td>5816</td>\n",
       "      <td>4.0</td>\n",
       "      <td>1065111963</td>\n",
       "    </tr>\n",
       "    <tr>\n",
       "      <th>99995</th>\n",
       "      <td>671</td>\n",
       "      <td>5989</td>\n",
       "      <td>4.0</td>\n",
       "      <td>1064890625</td>\n",
       "    </tr>\n",
       "    <tr>\n",
       "      <th>99997</th>\n",
       "      <td>671</td>\n",
       "      <td>5995</td>\n",
       "      <td>4.0</td>\n",
       "      <td>1066793014</td>\n",
       "    </tr>\n",
       "    <tr>\n",
       "      <th>100000</th>\n",
       "      <td>671</td>\n",
       "      <td>6269</td>\n",
       "      <td>4.0</td>\n",
       "      <td>1065149201</td>\n",
       "    </tr>\n",
       "    <tr>\n",
       "      <th>100001</th>\n",
       "      <td>671</td>\n",
       "      <td>6365</td>\n",
       "      <td>4.0</td>\n",
       "      <td>1070940363</td>\n",
       "    </tr>\n",
       "  </tbody>\n",
       "</table>\n",
       "<p>28750 rows × 4 columns</p>\n",
       "</div>"
      ],
      "text/plain": [
       "        userId  movieId  rating   timestamp\n",
       "4            1     1172     4.0  1260759205\n",
       "12           1     1953     4.0  1260759191\n",
       "13           1     2105     4.0  1260759139\n",
       "20           2       10     4.0   835355493\n",
       "23           2       47     4.0   835355552\n",
       "...        ...      ...     ...         ...\n",
       "99992      671     5816     4.0  1065111963\n",
       "99995      671     5989     4.0  1064890625\n",
       "99997      671     5995     4.0  1066793014\n",
       "100000     671     6269     4.0  1065149201\n",
       "100001     671     6365     4.0  1070940363\n",
       "\n",
       "[28750 rows x 4 columns]"
      ]
     },
     "execution_count": 94,
     "metadata": {},
     "output_type": "execute_result"
    }
   ],
   "source": [
    "ratings.loc[ratings[\"rating\"] == 4.0]"
   ]
  },
  {
   "cell_type": "markdown",
   "metadata": {},
   "source": [
    "za numericne podatke je to osnovna statistika"
   ]
  },
  {
   "cell_type": "code",
   "execution_count": 95,
   "metadata": {},
   "outputs": [
    {
     "data": {
      "text/html": [
       "<div>\n",
       "<style scoped>\n",
       "    .dataframe tbody tr th:only-of-type {\n",
       "        vertical-align: middle;\n",
       "    }\n",
       "\n",
       "    .dataframe tbody tr th {\n",
       "        vertical-align: top;\n",
       "    }\n",
       "\n",
       "    .dataframe thead th {\n",
       "        text-align: right;\n",
       "    }\n",
       "</style>\n",
       "<table border=\"1\" class=\"dataframe\">\n",
       "  <thead>\n",
       "    <tr style=\"text-align: right;\">\n",
       "      <th></th>\n",
       "      <th>userId</th>\n",
       "      <th>movieId</th>\n",
       "      <th>rating</th>\n",
       "      <th>timestamp</th>\n",
       "    </tr>\n",
       "  </thead>\n",
       "  <tbody>\n",
       "    <tr>\n",
       "      <th>count</th>\n",
       "      <td>100004.000000</td>\n",
       "      <td>100004.000000</td>\n",
       "      <td>100004.000000</td>\n",
       "      <td>1.000040e+05</td>\n",
       "    </tr>\n",
       "    <tr>\n",
       "      <th>mean</th>\n",
       "      <td>347.011310</td>\n",
       "      <td>12548.664363</td>\n",
       "      <td>3.543608</td>\n",
       "      <td>1.129639e+09</td>\n",
       "    </tr>\n",
       "    <tr>\n",
       "      <th>std</th>\n",
       "      <td>195.163838</td>\n",
       "      <td>26369.198969</td>\n",
       "      <td>1.058064</td>\n",
       "      <td>1.916858e+08</td>\n",
       "    </tr>\n",
       "    <tr>\n",
       "      <th>min</th>\n",
       "      <td>1.000000</td>\n",
       "      <td>1.000000</td>\n",
       "      <td>0.500000</td>\n",
       "      <td>7.896520e+08</td>\n",
       "    </tr>\n",
       "    <tr>\n",
       "      <th>25%</th>\n",
       "      <td>182.000000</td>\n",
       "      <td>1028.000000</td>\n",
       "      <td>3.000000</td>\n",
       "      <td>9.658478e+08</td>\n",
       "    </tr>\n",
       "    <tr>\n",
       "      <th>50%</th>\n",
       "      <td>367.000000</td>\n",
       "      <td>2406.500000</td>\n",
       "      <td>4.000000</td>\n",
       "      <td>1.110422e+09</td>\n",
       "    </tr>\n",
       "    <tr>\n",
       "      <th>75%</th>\n",
       "      <td>520.000000</td>\n",
       "      <td>5418.000000</td>\n",
       "      <td>4.000000</td>\n",
       "      <td>1.296192e+09</td>\n",
       "    </tr>\n",
       "    <tr>\n",
       "      <th>max</th>\n",
       "      <td>671.000000</td>\n",
       "      <td>163949.000000</td>\n",
       "      <td>5.000000</td>\n",
       "      <td>1.476641e+09</td>\n",
       "    </tr>\n",
       "  </tbody>\n",
       "</table>\n",
       "</div>"
      ],
      "text/plain": [
       "              userId        movieId         rating     timestamp\n",
       "count  100004.000000  100004.000000  100004.000000  1.000040e+05\n",
       "mean      347.011310   12548.664363       3.543608  1.129639e+09\n",
       "std       195.163838   26369.198969       1.058064  1.916858e+08\n",
       "min         1.000000       1.000000       0.500000  7.896520e+08\n",
       "25%       182.000000    1028.000000       3.000000  9.658478e+08\n",
       "50%       367.000000    2406.500000       4.000000  1.110422e+09\n",
       "75%       520.000000    5418.000000       4.000000  1.296192e+09\n",
       "max       671.000000  163949.000000       5.000000  1.476641e+09"
      ]
     },
     "execution_count": 95,
     "metadata": {},
     "output_type": "execute_result"
    }
   ],
   "source": [
    "ratings.describe()"
   ]
  },
  {
   "cell_type": "markdown",
   "metadata": {},
   "source": [
    "cross tabele"
   ]
  },
  {
   "cell_type": "code",
   "execution_count": 97,
   "metadata": {},
   "outputs": [
    {
     "data": {
      "text/html": [
       "<div>\n",
       "<style scoped>\n",
       "    .dataframe tbody tr th:only-of-type {\n",
       "        vertical-align: middle;\n",
       "    }\n",
       "\n",
       "    .dataframe tbody tr th {\n",
       "        vertical-align: top;\n",
       "    }\n",
       "\n",
       "    .dataframe thead th {\n",
       "        text-align: right;\n",
       "    }\n",
       "</style>\n",
       "<table border=\"1\" class=\"dataframe\">\n",
       "  <thead>\n",
       "    <tr style=\"text-align: right;\">\n",
       "      <th>title</th>\n",
       "      <th>\"Great Performances\" Cats (1998)</th>\n",
       "      <th>$9.99 (2008)</th>\n",
       "      <th>'Hellboy': The Seeds of Creation (2004)</th>\n",
       "      <th>'Neath the Arizona Skies (1934)</th>\n",
       "      <th>'Round Midnight (1986)</th>\n",
       "      <th>'Salem's Lot (2004)</th>\n",
       "      <th>'Til There Was You (1997)</th>\n",
       "      <th>'burbs, The (1989)</th>\n",
       "      <th>'night Mother (1986)</th>\n",
       "      <th>(500) Days of Summer (2009)</th>\n",
       "      <th>...</th>\n",
       "      <th>Zulu (1964)</th>\n",
       "      <th>Zulu (2013)</th>\n",
       "      <th>[REC] (2007)</th>\n",
       "      <th>eXistenZ (1999)</th>\n",
       "      <th>loudQUIETloud: A Film About the Pixies (2006)</th>\n",
       "      <th>xXx (2002)</th>\n",
       "      <th>xXx: State of the Union (2005)</th>\n",
       "      <th>¡Three Amigos! (1986)</th>\n",
       "      <th>À nous la liberté (Freedom for Us) (1931)</th>\n",
       "      <th>İtirazım Var (2014)</th>\n",
       "    </tr>\n",
       "    <tr>\n",
       "      <th>genres</th>\n",
       "      <th></th>\n",
       "      <th></th>\n",
       "      <th></th>\n",
       "      <th></th>\n",
       "      <th></th>\n",
       "      <th></th>\n",
       "      <th></th>\n",
       "      <th></th>\n",
       "      <th></th>\n",
       "      <th></th>\n",
       "      <th></th>\n",
       "      <th></th>\n",
       "      <th></th>\n",
       "      <th></th>\n",
       "      <th></th>\n",
       "      <th></th>\n",
       "      <th></th>\n",
       "      <th></th>\n",
       "      <th></th>\n",
       "      <th></th>\n",
       "      <th></th>\n",
       "    </tr>\n",
       "  </thead>\n",
       "  <tbody>\n",
       "    <tr>\n",
       "      <th>(no genres listed)</th>\n",
       "      <td>0</td>\n",
       "      <td>0</td>\n",
       "      <td>0</td>\n",
       "      <td>0</td>\n",
       "      <td>0</td>\n",
       "      <td>0</td>\n",
       "      <td>0</td>\n",
       "      <td>0</td>\n",
       "      <td>0</td>\n",
       "      <td>0</td>\n",
       "      <td>...</td>\n",
       "      <td>0</td>\n",
       "      <td>0</td>\n",
       "      <td>0</td>\n",
       "      <td>0</td>\n",
       "      <td>0</td>\n",
       "      <td>0</td>\n",
       "      <td>0</td>\n",
       "      <td>0</td>\n",
       "      <td>0</td>\n",
       "      <td>0</td>\n",
       "    </tr>\n",
       "    <tr>\n",
       "      <th>Action</th>\n",
       "      <td>0</td>\n",
       "      <td>0</td>\n",
       "      <td>0</td>\n",
       "      <td>0</td>\n",
       "      <td>0</td>\n",
       "      <td>0</td>\n",
       "      <td>0</td>\n",
       "      <td>0</td>\n",
       "      <td>0</td>\n",
       "      <td>0</td>\n",
       "      <td>...</td>\n",
       "      <td>0</td>\n",
       "      <td>0</td>\n",
       "      <td>0</td>\n",
       "      <td>0</td>\n",
       "      <td>0</td>\n",
       "      <td>0</td>\n",
       "      <td>0</td>\n",
       "      <td>0</td>\n",
       "      <td>0</td>\n",
       "      <td>0</td>\n",
       "    </tr>\n",
       "    <tr>\n",
       "      <th>Action|Adventure</th>\n",
       "      <td>0</td>\n",
       "      <td>0</td>\n",
       "      <td>0</td>\n",
       "      <td>0</td>\n",
       "      <td>0</td>\n",
       "      <td>0</td>\n",
       "      <td>0</td>\n",
       "      <td>0</td>\n",
       "      <td>0</td>\n",
       "      <td>0</td>\n",
       "      <td>...</td>\n",
       "      <td>0</td>\n",
       "      <td>0</td>\n",
       "      <td>0</td>\n",
       "      <td>0</td>\n",
       "      <td>0</td>\n",
       "      <td>0</td>\n",
       "      <td>0</td>\n",
       "      <td>0</td>\n",
       "      <td>0</td>\n",
       "      <td>0</td>\n",
       "    </tr>\n",
       "    <tr>\n",
       "      <th>Action|Adventure|Animation</th>\n",
       "      <td>0</td>\n",
       "      <td>0</td>\n",
       "      <td>0</td>\n",
       "      <td>0</td>\n",
       "      <td>0</td>\n",
       "      <td>0</td>\n",
       "      <td>0</td>\n",
       "      <td>0</td>\n",
       "      <td>0</td>\n",
       "      <td>0</td>\n",
       "      <td>...</td>\n",
       "      <td>0</td>\n",
       "      <td>0</td>\n",
       "      <td>0</td>\n",
       "      <td>0</td>\n",
       "      <td>0</td>\n",
       "      <td>0</td>\n",
       "      <td>0</td>\n",
       "      <td>0</td>\n",
       "      <td>0</td>\n",
       "      <td>0</td>\n",
       "    </tr>\n",
       "    <tr>\n",
       "      <th>Action|Adventure|Animation|Children</th>\n",
       "      <td>0</td>\n",
       "      <td>0</td>\n",
       "      <td>0</td>\n",
       "      <td>0</td>\n",
       "      <td>0</td>\n",
       "      <td>0</td>\n",
       "      <td>0</td>\n",
       "      <td>0</td>\n",
       "      <td>0</td>\n",
       "      <td>0</td>\n",
       "      <td>...</td>\n",
       "      <td>0</td>\n",
       "      <td>0</td>\n",
       "      <td>0</td>\n",
       "      <td>0</td>\n",
       "      <td>0</td>\n",
       "      <td>0</td>\n",
       "      <td>0</td>\n",
       "      <td>0</td>\n",
       "      <td>0</td>\n",
       "      <td>0</td>\n",
       "    </tr>\n",
       "    <tr>\n",
       "      <th>...</th>\n",
       "      <td>...</td>\n",
       "      <td>...</td>\n",
       "      <td>...</td>\n",
       "      <td>...</td>\n",
       "      <td>...</td>\n",
       "      <td>...</td>\n",
       "      <td>...</td>\n",
       "      <td>...</td>\n",
       "      <td>...</td>\n",
       "      <td>...</td>\n",
       "      <td>...</td>\n",
       "      <td>...</td>\n",
       "      <td>...</td>\n",
       "      <td>...</td>\n",
       "      <td>...</td>\n",
       "      <td>...</td>\n",
       "      <td>...</td>\n",
       "      <td>...</td>\n",
       "      <td>...</td>\n",
       "      <td>...</td>\n",
       "      <td>...</td>\n",
       "    </tr>\n",
       "    <tr>\n",
       "      <th>Sci-Fi|Thriller</th>\n",
       "      <td>0</td>\n",
       "      <td>0</td>\n",
       "      <td>0</td>\n",
       "      <td>0</td>\n",
       "      <td>0</td>\n",
       "      <td>0</td>\n",
       "      <td>0</td>\n",
       "      <td>0</td>\n",
       "      <td>0</td>\n",
       "      <td>0</td>\n",
       "      <td>...</td>\n",
       "      <td>0</td>\n",
       "      <td>0</td>\n",
       "      <td>0</td>\n",
       "      <td>0</td>\n",
       "      <td>0</td>\n",
       "      <td>0</td>\n",
       "      <td>0</td>\n",
       "      <td>0</td>\n",
       "      <td>0</td>\n",
       "      <td>0</td>\n",
       "    </tr>\n",
       "    <tr>\n",
       "      <th>Sci-Fi|Thriller|IMAX</th>\n",
       "      <td>0</td>\n",
       "      <td>0</td>\n",
       "      <td>0</td>\n",
       "      <td>0</td>\n",
       "      <td>0</td>\n",
       "      <td>0</td>\n",
       "      <td>0</td>\n",
       "      <td>0</td>\n",
       "      <td>0</td>\n",
       "      <td>0</td>\n",
       "      <td>...</td>\n",
       "      <td>0</td>\n",
       "      <td>0</td>\n",
       "      <td>0</td>\n",
       "      <td>0</td>\n",
       "      <td>0</td>\n",
       "      <td>0</td>\n",
       "      <td>0</td>\n",
       "      <td>0</td>\n",
       "      <td>0</td>\n",
       "      <td>0</td>\n",
       "    </tr>\n",
       "    <tr>\n",
       "      <th>Thriller</th>\n",
       "      <td>0</td>\n",
       "      <td>0</td>\n",
       "      <td>0</td>\n",
       "      <td>0</td>\n",
       "      <td>0</td>\n",
       "      <td>0</td>\n",
       "      <td>0</td>\n",
       "      <td>0</td>\n",
       "      <td>0</td>\n",
       "      <td>0</td>\n",
       "      <td>...</td>\n",
       "      <td>0</td>\n",
       "      <td>0</td>\n",
       "      <td>0</td>\n",
       "      <td>0</td>\n",
       "      <td>0</td>\n",
       "      <td>0</td>\n",
       "      <td>0</td>\n",
       "      <td>0</td>\n",
       "      <td>0</td>\n",
       "      <td>0</td>\n",
       "    </tr>\n",
       "    <tr>\n",
       "      <th>War</th>\n",
       "      <td>0</td>\n",
       "      <td>0</td>\n",
       "      <td>0</td>\n",
       "      <td>0</td>\n",
       "      <td>0</td>\n",
       "      <td>0</td>\n",
       "      <td>0</td>\n",
       "      <td>0</td>\n",
       "      <td>0</td>\n",
       "      <td>0</td>\n",
       "      <td>...</td>\n",
       "      <td>0</td>\n",
       "      <td>0</td>\n",
       "      <td>0</td>\n",
       "      <td>0</td>\n",
       "      <td>0</td>\n",
       "      <td>0</td>\n",
       "      <td>0</td>\n",
       "      <td>0</td>\n",
       "      <td>0</td>\n",
       "      <td>0</td>\n",
       "    </tr>\n",
       "    <tr>\n",
       "      <th>Western</th>\n",
       "      <td>0</td>\n",
       "      <td>0</td>\n",
       "      <td>0</td>\n",
       "      <td>1</td>\n",
       "      <td>0</td>\n",
       "      <td>0</td>\n",
       "      <td>0</td>\n",
       "      <td>0</td>\n",
       "      <td>0</td>\n",
       "      <td>0</td>\n",
       "      <td>...</td>\n",
       "      <td>0</td>\n",
       "      <td>0</td>\n",
       "      <td>0</td>\n",
       "      <td>0</td>\n",
       "      <td>0</td>\n",
       "      <td>0</td>\n",
       "      <td>0</td>\n",
       "      <td>0</td>\n",
       "      <td>0</td>\n",
       "      <td>0</td>\n",
       "    </tr>\n",
       "  </tbody>\n",
       "</table>\n",
       "<p>902 rows × 9123 columns</p>\n",
       "</div>"
      ],
      "text/plain": [
       "title                                \"Great Performances\" Cats (1998)  \\\n",
       "genres                                                                  \n",
       "(no genres listed)                                                  0   \n",
       "Action                                                              0   \n",
       "Action|Adventure                                                    0   \n",
       "Action|Adventure|Animation                                          0   \n",
       "Action|Adventure|Animation|Children                                 0   \n",
       "...                                                               ...   \n",
       "Sci-Fi|Thriller                                                     0   \n",
       "Sci-Fi|Thriller|IMAX                                                0   \n",
       "Thriller                                                            0   \n",
       "War                                                                 0   \n",
       "Western                                                             0   \n",
       "\n",
       "title                                $9.99 (2008)  \\\n",
       "genres                                              \n",
       "(no genres listed)                              0   \n",
       "Action                                          0   \n",
       "Action|Adventure                                0   \n",
       "Action|Adventure|Animation                      0   \n",
       "Action|Adventure|Animation|Children             0   \n",
       "...                                           ...   \n",
       "Sci-Fi|Thriller                                 0   \n",
       "Sci-Fi|Thriller|IMAX                            0   \n",
       "Thriller                                        0   \n",
       "War                                             0   \n",
       "Western                                         0   \n",
       "\n",
       "title                                'Hellboy': The Seeds of Creation (2004)  \\\n",
       "genres                                                                         \n",
       "(no genres listed)                                                         0   \n",
       "Action                                                                     0   \n",
       "Action|Adventure                                                           0   \n",
       "Action|Adventure|Animation                                                 0   \n",
       "Action|Adventure|Animation|Children                                        0   \n",
       "...                                                                      ...   \n",
       "Sci-Fi|Thriller                                                            0   \n",
       "Sci-Fi|Thriller|IMAX                                                       0   \n",
       "Thriller                                                                   0   \n",
       "War                                                                        0   \n",
       "Western                                                                    0   \n",
       "\n",
       "title                                'Neath the Arizona Skies (1934)  \\\n",
       "genres                                                                 \n",
       "(no genres listed)                                                 0   \n",
       "Action                                                             0   \n",
       "Action|Adventure                                                   0   \n",
       "Action|Adventure|Animation                                         0   \n",
       "Action|Adventure|Animation|Children                                0   \n",
       "...                                                              ...   \n",
       "Sci-Fi|Thriller                                                    0   \n",
       "Sci-Fi|Thriller|IMAX                                               0   \n",
       "Thriller                                                           0   \n",
       "War                                                                0   \n",
       "Western                                                            1   \n",
       "\n",
       "title                                'Round Midnight (1986)  \\\n",
       "genres                                                        \n",
       "(no genres listed)                                        0   \n",
       "Action                                                    0   \n",
       "Action|Adventure                                          0   \n",
       "Action|Adventure|Animation                                0   \n",
       "Action|Adventure|Animation|Children                       0   \n",
       "...                                                     ...   \n",
       "Sci-Fi|Thriller                                           0   \n",
       "Sci-Fi|Thriller|IMAX                                      0   \n",
       "Thriller                                                  0   \n",
       "War                                                       0   \n",
       "Western                                                   0   \n",
       "\n",
       "title                                'Salem's Lot (2004)  \\\n",
       "genres                                                     \n",
       "(no genres listed)                                     0   \n",
       "Action                                                 0   \n",
       "Action|Adventure                                       0   \n",
       "Action|Adventure|Animation                             0   \n",
       "Action|Adventure|Animation|Children                    0   \n",
       "...                                                  ...   \n",
       "Sci-Fi|Thriller                                        0   \n",
       "Sci-Fi|Thriller|IMAX                                   0   \n",
       "Thriller                                               0   \n",
       "War                                                    0   \n",
       "Western                                                0   \n",
       "\n",
       "title                                'Til There Was You (1997)  \\\n",
       "genres                                                           \n",
       "(no genres listed)                                           0   \n",
       "Action                                                       0   \n",
       "Action|Adventure                                             0   \n",
       "Action|Adventure|Animation                                   0   \n",
       "Action|Adventure|Animation|Children                          0   \n",
       "...                                                        ...   \n",
       "Sci-Fi|Thriller                                              0   \n",
       "Sci-Fi|Thriller|IMAX                                         0   \n",
       "Thriller                                                     0   \n",
       "War                                                          0   \n",
       "Western                                                      0   \n",
       "\n",
       "title                                'burbs, The (1989)  'night Mother (1986)  \\\n",
       "genres                                                                          \n",
       "(no genres listed)                                    0                     0   \n",
       "Action                                                0                     0   \n",
       "Action|Adventure                                      0                     0   \n",
       "Action|Adventure|Animation                            0                     0   \n",
       "Action|Adventure|Animation|Children                   0                     0   \n",
       "...                                                 ...                   ...   \n",
       "Sci-Fi|Thriller                                       0                     0   \n",
       "Sci-Fi|Thriller|IMAX                                  0                     0   \n",
       "Thriller                                              0                     0   \n",
       "War                                                   0                     0   \n",
       "Western                                               0                     0   \n",
       "\n",
       "title                                (500) Days of Summer (2009)  ...  \\\n",
       "genres                                                            ...   \n",
       "(no genres listed)                                             0  ...   \n",
       "Action                                                         0  ...   \n",
       "Action|Adventure                                               0  ...   \n",
       "Action|Adventure|Animation                                     0  ...   \n",
       "Action|Adventure|Animation|Children                            0  ...   \n",
       "...                                                          ...  ...   \n",
       "Sci-Fi|Thriller                                                0  ...   \n",
       "Sci-Fi|Thriller|IMAX                                           0  ...   \n",
       "Thriller                                                       0  ...   \n",
       "War                                                            0  ...   \n",
       "Western                                                        0  ...   \n",
       "\n",
       "title                                Zulu (1964)  Zulu (2013)  [REC] (2007)  \\\n",
       "genres                                                                        \n",
       "(no genres listed)                             0            0             0   \n",
       "Action                                         0            0             0   \n",
       "Action|Adventure                               0            0             0   \n",
       "Action|Adventure|Animation                     0            0             0   \n",
       "Action|Adventure|Animation|Children            0            0             0   \n",
       "...                                          ...          ...           ...   \n",
       "Sci-Fi|Thriller                                0            0             0   \n",
       "Sci-Fi|Thriller|IMAX                           0            0             0   \n",
       "Thriller                                       0            0             0   \n",
       "War                                            0            0             0   \n",
       "Western                                        0            0             0   \n",
       "\n",
       "title                                eXistenZ (1999)  \\\n",
       "genres                                                 \n",
       "(no genres listed)                                 0   \n",
       "Action                                             0   \n",
       "Action|Adventure                                   0   \n",
       "Action|Adventure|Animation                         0   \n",
       "Action|Adventure|Animation|Children                0   \n",
       "...                                              ...   \n",
       "Sci-Fi|Thriller                                    0   \n",
       "Sci-Fi|Thriller|IMAX                               0   \n",
       "Thriller                                           0   \n",
       "War                                                0   \n",
       "Western                                            0   \n",
       "\n",
       "title                                loudQUIETloud: A Film About the Pixies (2006)  \\\n",
       "genres                                                                               \n",
       "(no genres listed)                                                               0   \n",
       "Action                                                                           0   \n",
       "Action|Adventure                                                                 0   \n",
       "Action|Adventure|Animation                                                       0   \n",
       "Action|Adventure|Animation|Children                                              0   \n",
       "...                                                                            ...   \n",
       "Sci-Fi|Thriller                                                                  0   \n",
       "Sci-Fi|Thriller|IMAX                                                             0   \n",
       "Thriller                                                                         0   \n",
       "War                                                                              0   \n",
       "Western                                                                          0   \n",
       "\n",
       "title                                xXx (2002)  \\\n",
       "genres                                            \n",
       "(no genres listed)                            0   \n",
       "Action                                        0   \n",
       "Action|Adventure                              0   \n",
       "Action|Adventure|Animation                    0   \n",
       "Action|Adventure|Animation|Children           0   \n",
       "...                                         ...   \n",
       "Sci-Fi|Thriller                               0   \n",
       "Sci-Fi|Thriller|IMAX                          0   \n",
       "Thriller                                      0   \n",
       "War                                           0   \n",
       "Western                                       0   \n",
       "\n",
       "title                                xXx: State of the Union (2005)  \\\n",
       "genres                                                                \n",
       "(no genres listed)                                                0   \n",
       "Action                                                            0   \n",
       "Action|Adventure                                                  0   \n",
       "Action|Adventure|Animation                                        0   \n",
       "Action|Adventure|Animation|Children                               0   \n",
       "...                                                             ...   \n",
       "Sci-Fi|Thriller                                                   0   \n",
       "Sci-Fi|Thriller|IMAX                                              0   \n",
       "Thriller                                                          0   \n",
       "War                                                               0   \n",
       "Western                                                           0   \n",
       "\n",
       "title                                ¡Three Amigos! (1986)  \\\n",
       "genres                                                       \n",
       "(no genres listed)                                       0   \n",
       "Action                                                   0   \n",
       "Action|Adventure                                         0   \n",
       "Action|Adventure|Animation                               0   \n",
       "Action|Adventure|Animation|Children                      0   \n",
       "...                                                    ...   \n",
       "Sci-Fi|Thriller                                          0   \n",
       "Sci-Fi|Thriller|IMAX                                     0   \n",
       "Thriller                                                 0   \n",
       "War                                                      0   \n",
       "Western                                                  0   \n",
       "\n",
       "title                                À nous la liberté (Freedom for Us) (1931)  \\\n",
       "genres                                                                           \n",
       "(no genres listed)                                                           0   \n",
       "Action                                                                       0   \n",
       "Action|Adventure                                                             0   \n",
       "Action|Adventure|Animation                                                   0   \n",
       "Action|Adventure|Animation|Children                                          0   \n",
       "...                                                                        ...   \n",
       "Sci-Fi|Thriller                                                              0   \n",
       "Sci-Fi|Thriller|IMAX                                                         0   \n",
       "Thriller                                                                     0   \n",
       "War                                                                          0   \n",
       "Western                                                                      0   \n",
       "\n",
       "title                                İtirazım Var (2014)  \n",
       "genres                                                    \n",
       "(no genres listed)                                     0  \n",
       "Action                                                 0  \n",
       "Action|Adventure                                       0  \n",
       "Action|Adventure|Animation                             0  \n",
       "Action|Adventure|Animation|Children                    0  \n",
       "...                                                  ...  \n",
       "Sci-Fi|Thriller                                        0  \n",
       "Sci-Fi|Thriller|IMAX                                   0  \n",
       "Thriller                                               0  \n",
       "War                                                    0  \n",
       "Western                                                0  \n",
       "\n",
       "[902 rows x 9123 columns]"
      ]
     },
     "execution_count": 97,
     "metadata": {},
     "output_type": "execute_result"
    }
   ],
   "source": [
    "pd.crosstab(movies[\"genres\"], movies[\"title\"])"
   ]
  },
  {
   "cell_type": "markdown",
   "metadata": {},
   "source": [
    "filmi ki imajo ratinge mn kot 0.6, takih je 1101"
   ]
  },
  {
   "cell_type": "code",
   "execution_count": 122,
   "metadata": {},
   "outputs": [
    {
     "data": {
      "text/html": [
       "<div>\n",
       "<style scoped>\n",
       "    .dataframe tbody tr th:only-of-type {\n",
       "        vertical-align: middle;\n",
       "    }\n",
       "\n",
       "    .dataframe tbody tr th {\n",
       "        vertical-align: top;\n",
       "    }\n",
       "\n",
       "    .dataframe thead th {\n",
       "        text-align: right;\n",
       "    }\n",
       "</style>\n",
       "<table border=\"1\" class=\"dataframe\">\n",
       "  <thead>\n",
       "    <tr style=\"text-align: right;\">\n",
       "      <th></th>\n",
       "      <th>userId</th>\n",
       "      <th>movieId</th>\n",
       "      <th>rating</th>\n",
       "      <th>timestamp</th>\n",
       "    </tr>\n",
       "  </thead>\n",
       "  <tbody>\n",
       "    <tr>\n",
       "      <th>466</th>\n",
       "      <td>6</td>\n",
       "      <td>1876</td>\n",
       "      <td>0.5</td>\n",
       "      <td>1108134334</td>\n",
       "    </tr>\n",
       "    <tr>\n",
       "      <th>615</th>\n",
       "      <td>8</td>\n",
       "      <td>1358</td>\n",
       "      <td>0.5</td>\n",
       "      <td>1154474527</td>\n",
       "    </tr>\n",
       "    <tr>\n",
       "      <th>984</th>\n",
       "      <td>15</td>\n",
       "      <td>70</td>\n",
       "      <td>0.5</td>\n",
       "      <td>1093070467</td>\n",
       "    </tr>\n",
       "    <tr>\n",
       "      <th>1001</th>\n",
       "      <td>15</td>\n",
       "      <td>160</td>\n",
       "      <td>0.5</td>\n",
       "      <td>1093028411</td>\n",
       "    </tr>\n",
       "    <tr>\n",
       "      <th>1053</th>\n",
       "      <td>15</td>\n",
       "      <td>355</td>\n",
       "      <td>0.5</td>\n",
       "      <td>1122576667</td>\n",
       "    </tr>\n",
       "    <tr>\n",
       "      <th>...</th>\n",
       "      <td>...</td>\n",
       "      <td>...</td>\n",
       "      <td>...</td>\n",
       "      <td>...</td>\n",
       "    </tr>\n",
       "    <tr>\n",
       "      <th>96345</th>\n",
       "      <td>643</td>\n",
       "      <td>8387</td>\n",
       "      <td>0.5</td>\n",
       "      <td>1372518405</td>\n",
       "    </tr>\n",
       "    <tr>\n",
       "      <th>97581</th>\n",
       "      <td>654</td>\n",
       "      <td>1037</td>\n",
       "      <td>0.5</td>\n",
       "      <td>1145392839</td>\n",
       "    </tr>\n",
       "    <tr>\n",
       "      <th>98536</th>\n",
       "      <td>660</td>\n",
       "      <td>593</td>\n",
       "      <td>0.5</td>\n",
       "      <td>1436680073</td>\n",
       "    </tr>\n",
       "    <tr>\n",
       "      <th>98626</th>\n",
       "      <td>661</td>\n",
       "      <td>637</td>\n",
       "      <td>0.5</td>\n",
       "      <td>1190265552</td>\n",
       "    </tr>\n",
       "    <tr>\n",
       "      <th>98649</th>\n",
       "      <td>661</td>\n",
       "      <td>4483</td>\n",
       "      <td>0.5</td>\n",
       "      <td>1190266014</td>\n",
       "    </tr>\n",
       "  </tbody>\n",
       "</table>\n",
       "<p>1101 rows × 4 columns</p>\n",
       "</div>"
      ],
      "text/plain": [
       "       userId  movieId  rating   timestamp\n",
       "466         6     1876     0.5  1108134334\n",
       "615         8     1358     0.5  1154474527\n",
       "984        15       70     0.5  1093070467\n",
       "1001       15      160     0.5  1093028411\n",
       "1053       15      355     0.5  1122576667\n",
       "...       ...      ...     ...         ...\n",
       "96345     643     8387     0.5  1372518405\n",
       "97581     654     1037     0.5  1145392839\n",
       "98536     660      593     0.5  1436680073\n",
       "98626     661      637     0.5  1190265552\n",
       "98649     661     4483     0.5  1190266014\n",
       "\n",
       "[1101 rows x 4 columns]"
      ]
     },
     "execution_count": 122,
     "metadata": {},
     "output_type": "execute_result"
    }
   ],
   "source": [
    "veck4 = ratings[(ratings[\"rating\"] < 0.6)]\n",
    "veck4"
   ]
  },
  {
   "cell_type": "code",
   "execution_count": 123,
   "metadata": {},
   "outputs": [
    {
     "name": "stdout",
     "output_type": "stream",
     "text": [
      "Ratings:\n",
      "\n",
      "   userId  movieId  rating   timestamp\n",
      "0       1       31     2.5  1260759144\n",
      "1       1     1029     3.0  1260759179\n",
      "2       1     1061     3.0  1260759182\n",
      "3       1     1129     2.0  1260759185\n",
      "4       1     1172     4.0  1260759205\n",
      "\n",
      "Movies:\n",
      "\n",
      "   movieId                               title  \\\n",
      "0        1                    Toy Story (1995)   \n",
      "1        2                      Jumanji (1995)   \n",
      "2        3             Grumpier Old Men (1995)   \n",
      "3        4            Waiting to Exhale (1995)   \n",
      "4        5  Father of the Bride Part II (1995)   \n",
      "\n",
      "                                        genres  \n",
      "0  Adventure|Animation|Children|Comedy|Fantasy  \n",
      "1                   Adventure|Children|Fantasy  \n",
      "2                               Comedy|Romance  \n",
      "3                         Comedy|Drama|Romance  \n",
      "4                                       Comedy  \n",
      "\n",
      "\n",
      "Cast:\n",
      "\n",
      "   movieId                                               cast\n",
      "0        1  Tom Hanks|Tim Allen|Don Rickles|Jim Varney|Wal...\n",
      "1        2  Robin Williams|Jonathan Hyde|Kirsten Dunst|Bra...\n",
      "2        3  Walter Matthau|Jack Lemmon|Sophia Loren|Burges...\n",
      "3        4  Whitney Houston|Angela Bassett|Loretta Devine|...\n",
      "4        5  Steve Martin|Diane Keaton|Martin Short|George ...\n"
     ]
    }
   ],
   "source": [
    "#Prikaz prvih nekaj vrstic podatkov\n",
    "print(\"Ratings:\")\n",
    "print()\n",
    "print(ratings.head())\n",
    "print()\n",
    "print(\"Movies:\")\n",
    "print()\n",
    "print(movies.head())\n",
    "print()\n",
    "print(\"\\nCast:\")\n",
    "print()\n",
    "print(cast.head())"
   ]
  },
  {
   "cell_type": "markdown",
   "metadata": {
    "lang": "sl"
   },
   "source": [
    "### Vprašanja\n",
    "\n",
    "Glavni namen podatkovnega rudarjenja je *odkrivanje znanj iz podatkov*,\n",
    "torej odgovarjanje na vprašanja z uporabo računskih postopkov.\n",
    "\n",
    "Z uporabo principov, ki ste jih spoznali na vajah in predavanjih, odgovorite na\n",
    "spodnja vprašanja. Pri vsakem vprašanju dobro premislite, na kakšen način boste\n",
    "najbolje podali, prikazali oz. utemeljili odgovor. Bistven del so odgovori na\n",
    "vprašanja in ne implementacija vaše rešitve."
   ]
  },
  {
   "cell_type": "markdown",
   "metadata": {
    "lang": "sl"
   },
   "source": [
    "#### 1. vprašanje (15%):\n",
    "Kateri filmi so v povprečju najbolje ocenjeni?  Pripravite seznam\n",
    "filmov ter njihovih povprečnih ocen in izpišite 10 filmov z vrha seznama.\n",
    "Opazite pri takem ocenjevanju kakšno težavo? Kako bi jo lahko rešili? Kakšni so\n",
    "rezultati tedaj?\n",
    "\n",
    "Kodo lahko razdelite v več celic."
   ]
  },
  {
   "cell_type": "code",
   "execution_count": null,
   "metadata": {},
   "outputs": [],
   "source": []
  },
  {
   "cell_type": "code",
   "execution_count": 124,
   "metadata": {},
   "outputs": [],
   "source": [
    "# Pretvorba časovnega formata\n",
    "ratings[\"timestamp\"] = pd.to_datetime(ratings[\"timestamp\"], unit=\"s\")\n",
    "\n"
   ]
  },
  {
   "cell_type": "code",
   "execution_count": 114,
   "metadata": {
    "ExecuteTime": {
     "end_time": "2025-03-22T15:53:03.994734Z",
     "start_time": "2025-03-22T15:52:52.668803Z"
    }
   },
   "outputs": [
    {
     "name": "stdout",
     "output_type": "stream",
     "text": [
      "Ratings:\n",
      "   userId  movieId  rating           timestamp\n",
      "0       1       31     2.5 2009-12-14 02:52:24\n",
      "1       1     1029     3.0 2009-12-14 02:52:59\n",
      "2       1     1061     3.0 2009-12-14 02:53:02\n",
      "3       1     1129     2.0 2009-12-14 02:53:05\n",
      "4       1     1172     4.0 2009-12-14 02:53:25\n",
      "\n",
      "Movies:\n",
      "   movieId                               title  \\\n",
      "0        1                    Toy Story (1995)   \n",
      "1        2                      Jumanji (1995)   \n",
      "2        3             Grumpier Old Men (1995)   \n",
      "3        4            Waiting to Exhale (1995)   \n",
      "4        5  Father of the Bride Part II (1995)   \n",
      "\n",
      "                                        genres  \n",
      "0  Adventure|Animation|Children|Comedy|Fantasy  \n",
      "1                   Adventure|Children|Fantasy  \n",
      "2                               Comedy|Romance  \n",
      "3                         Comedy|Drama|Romance  \n",
      "4                                       Comedy  \n",
      "\n",
      "Cast:\n",
      "   movieId                                               cast\n",
      "0        1  Tom Hanks|Tim Allen|Don Rickles|Jim Varney|Wal...\n",
      "1        2  Robin Williams|Jonathan Hyde|Kirsten Dunst|Bra...\n",
      "2        3  Walter Matthau|Jack Lemmon|Sophia Loren|Burges...\n",
      "3        4  Whitney Houston|Angela Bassett|Loretta Devine|...\n",
      "4        5  Steve Martin|Diane Keaton|Martin Short|George ...\n",
      "Unikatni žanri: {'Children', 'Documentary', 'Crime', 'Mystery', 'Adventure', 'Western', 'Drama', 'Fantasy', 'Romance', 'Musical', 'Animation', '(no genres listed)', 'War', 'Horror', 'Comedy', 'Film-Noir', 'Sci-Fi', 'IMAX', 'Thriller', 'Action'}\n"
     ]
    },
    {
     "ename": "TypeError",
     "evalue": "'module' object is not callable",
     "output_type": "error",
     "traceback": [
      "\u001b[0;31m---------------------------------------------------------------------------\u001b[0m",
      "\u001b[0;31mTypeError\u001b[0m                                 Traceback (most recent call last)",
      "Cell \u001b[0;32mIn[114], line 34\u001b[0m\n\u001b[1;32m     31\u001b[0m all_genres \u001b[38;5;241m=\u001b[39m [genre \u001b[38;5;28;01mfor\u001b[39;00m genre_list \u001b[38;5;129;01min\u001b[39;00m movies[\u001b[38;5;124m\"\u001b[39m\u001b[38;5;124mgenres\u001b[39m\u001b[38;5;124m\"\u001b[39m] \u001b[38;5;28;01mfor\u001b[39;00m genre \u001b[38;5;129;01min\u001b[39;00m genre_list\u001b[38;5;241m.\u001b[39msplit(\u001b[38;5;124m\"\u001b[39m\u001b[38;5;124m|\u001b[39m\u001b[38;5;124m\"\u001b[39m)]\n\u001b[1;32m     32\u001b[0m genre_counts \u001b[38;5;241m=\u001b[39m pd\u001b[38;5;241m.\u001b[39mSeries(all_genres)\u001b[38;5;241m.\u001b[39mvalue_counts()\n\u001b[0;32m---> 34\u001b[0m \u001b[43mplt\u001b[49m\u001b[38;5;241;43m.\u001b[39;49m\u001b[43mfigure\u001b[49m\u001b[43m(\u001b[49m\u001b[43mfigsize\u001b[49m\u001b[38;5;241;43m=\u001b[39;49m\u001b[43m(\u001b[49m\u001b[38;5;241;43m12\u001b[39;49m\u001b[43m,\u001b[49m\u001b[43m \u001b[49m\u001b[38;5;241;43m6\u001b[39;49m\u001b[43m)\u001b[49m\u001b[43m)\u001b[49m\n\u001b[1;32m     36\u001b[0m plt\u001b[38;5;241m.\u001b[39mxticks(rotation\u001b[38;5;241m=\u001b[39m\u001b[38;5;241m45\u001b[39m)\n\u001b[1;32m     37\u001b[0m plt\u001b[38;5;241m.\u001b[39mtitle(\u001b[38;5;124m\"\u001b[39m\u001b[38;5;124mPorazdelitev žanrov\u001b[39m\u001b[38;5;124m\"\u001b[39m)\n",
      "\u001b[0;31mTypeError\u001b[0m: 'module' object is not callable"
     ]
    }
   ],
   "source": [
    "# Preverimo unikatne žanre\n",
    "genres = set()\n",
    "for genre_list in movies[\"genres\"]:\n",
    "    for genre in genre_list.split(\"|\"):\n",
    "        genres.add(genre)\n",
    "print(\"Unikatni žanri:\", genres)\n",
    "\n",
    "# Vizualizacija porazdelitve žanrov\n",
    "all_genres = [genre for genre_list in movies[\"genres\"] for genre in genre_list.split(\"|\")]\n",
    "genre_counts = pd.Series(all_genres).value_counts()\n",
    "\n",
    "plt.figure(figsize=(12, 6))\n",
    "\n",
    "plt.xticks(rotation=45)\n",
    "plt.title(\"Porazdelitev žanrov\")\n",
    "plt.show()\n"
   ]
  },
  {
   "cell_type": "markdown",
   "metadata": {
    "lang": "sl"
   },
   "source": [
    "Odgovor: **zapišite utemeljitev odgovora**"
   ]
  },
  {
   "cell_type": "markdown",
   "metadata": {
    "lang": "sl"
   },
   "source": [
    "#### 2. vprašanje (15%):\n",
    "Posamezni film pripada enemu ali več žanrom. \n",
    "Koliko je vseh žanrov? Prikaži porazdelitev žanrov z uporabo ustrezne\n",
    "vizualizacije.\n",
    "\n",
    "Kodo lahko razdelite v več celic."
   ]
  },
  {
   "cell_type": "code",
   "execution_count": null,
   "metadata": {
    "ExecuteTime": {
     "end_time": "2025-03-22T15:53:04.009982Z",
     "start_time": "2025-03-22T15:53:04.008185Z"
    }
   },
   "outputs": [],
   "source": []
  },
  {
   "cell_type": "markdown",
   "metadata": {
    "lang": "sl"
   },
   "source": [
    "Odgovor: **zapišite utemeljitev odgovora**"
   ]
  },
  {
   "cell_type": "markdown",
   "metadata": {
    "lang": "sl"
   },
   "source": [
    "#### 3. vprašanje (20%):\n",
    "Število ocen (ogledov) se za posamezni film razlikuje. Ali\n",
    "obstaja povezava med gledanostjo in povprečno oceno filma? Opišite postopek, ki\n",
    "ste ga uporabili pri odgovarjanju na vprašanje.\n",
    "\n",
    "Kodo lahko razdelite v več celic."
   ]
  },
  {
   "cell_type": "code",
   "execution_count": null,
   "metadata": {
    "ExecuteTime": {
     "end_time": "2025-03-22T15:53:04.021281Z",
     "start_time": "2025-03-22T15:53:04.019606Z"
    }
   },
   "outputs": [],
   "source": []
  },
  {
   "cell_type": "markdown",
   "metadata": {
    "lang": "sl"
   },
   "source": [
    "Odgovor: **zapišite utemeljitev odgovora**"
   ]
  },
  {
   "cell_type": "markdown",
   "metadata": {
    "lang": "sl"
   },
   "source": [
    "#### 4. vprašanje (30%):\n",
    "Vsaka ocena je bila vnešena na določen datum (stolpec\n",
    "*timestamp*).  Ali se popularnost posameznih filmov s časom spreminja?\n",
    "Problem reši tako, da za dani film ocene razporediš po času ter v vsaku časovni\n",
    "točki izračunaš povprečje za zadnjih 30, 50, ali 100 ocen. Nariši graf, kako se\n",
    "ocena spreminja in ga prikaži za dva zanimiva primera filmov.\n",
    "\n",
    "Kodo lahko razdelite v več celic."
   ]
  },
  {
   "cell_type": "code",
   "execution_count": null,
   "metadata": {
    "ExecuteTime": {
     "end_time": "2025-03-22T15:53:04.051408Z",
     "start_time": "2025-03-22T15:53:04.048756Z"
    }
   },
   "outputs": [],
   "source": []
  },
  {
   "cell_type": "markdown",
   "metadata": {
    "lang": "sl"
   },
   "source": [
    "Odgovor: **zapišite utemeljitev odgovora**"
   ]
  },
  {
   "cell_type": "markdown",
   "metadata": {
    "lang": "sl"
   },
   "source": [
    "#### 5. vprašanje (20%):\n",
    "Kako bi ocenili popularnost posameznih igralcev? Opišite postopek\n",
    "ocenitve ter izpišite 10 najbolj popularnih igralcev.\n",
    "\n",
    "Kodo lahko razdelite v več celic."
   ]
  },
  {
   "cell_type": "code",
   "execution_count": null,
   "metadata": {
    "ExecuteTime": {
     "end_time": "2025-03-22T15:53:04.093470Z",
     "start_time": "2025-03-22T15:53:04.088449Z"
    }
   },
   "outputs": [],
   "source": []
  },
  {
   "cell_type": "markdown",
   "metadata": {
    "lang": "sl"
   },
   "source": [
    "Odgovor: **zapišite utemeljitev odgovora**"
   ]
  },
  {
   "cell_type": "markdown",
   "metadata": {
    "lang": "sl"
   },
   "source": [
    "#### Bonus vprašanje (5%):\n",
    "\n",
    "Kateri je tvoj najljubši film? Zakaj?"
   ]
  },
  {
   "cell_type": "markdown",
   "metadata": {
    "lang": "sl"
   },
   "source": [
    "Odgovor: **zapišite utemeljitev odgovora**"
   ]
  },
  {
   "cell_type": "markdown",
   "metadata": {},
   "source": []
  },
  {
   "cell_type": "markdown",
   "metadata": {
    "lang": "sl"
   },
   "source": [
    "### Zapiski\n",
    "Za nalaganje podatkov lahko uporabite modul `csv`."
   ]
  },
  {
   "cell_type": "code",
   "execution_count": 18,
   "metadata": {
    "ExecuteTime": {
     "end_time": "2025-03-22T15:53:04.218489Z",
     "start_time": "2025-03-22T15:53:04.109575Z"
    }
   },
   "outputs": [],
   "source": [
    "from csv import DictReader\n",
    "\n",
    "reader = DictReader(open('podatki/ml-latest-small/ratings.csv', 'rt', encoding='utf-8'))\n",
    "for row in reader:\n",
    "    user = row[\"userId\"]\n",
    "    movie = row[\"movieId\"]\n",
    "    rating = row[\"rating\"]\n",
    "    timestamp = row[\"timestamp\"]"
   ]
  },
  {
   "cell_type": "markdown",
   "metadata": {
    "lang": "sl"
   },
   "source": [
    "Podatki v zadnji vrstici datoteke:"
   ]
  },
  {
   "cell_type": "code",
   "execution_count": 19,
   "metadata": {
    "ExecuteTime": {
     "end_time": "2025-03-22T15:53:04.230300Z",
     "start_time": "2025-03-22T15:53:04.227500Z"
    }
   },
   "outputs": [
    {
     "data": {
      "text/plain": [
       "('671', '6565', '3.5', '1074784724')"
      ]
     },
     "execution_count": 19,
     "metadata": {},
     "output_type": "execute_result"
    }
   ],
   "source": [
    "user, movie, rating, timestamp"
   ]
  },
  {
   "cell_type": "markdown",
   "metadata": {
    "lang": "sl"
   },
   "source": [
    "Pretvorba časovnega formata (*Unix time*). Kode za oblikovanje so navedene v dokumentaciji modula [`datetime`](https://docs.python.org/3/library/datetime.html#strftime-and-strptime-behavior)."
   ]
  },
  {
   "cell_type": "code",
   "execution_count": 20,
   "metadata": {
    "ExecuteTime": {
     "end_time": "2025-03-22T15:53:04.244188Z",
     "start_time": "2025-03-22T15:53:04.240598Z"
    }
   },
   "outputs": [
    {
     "data": {
      "text/plain": [
       "'2008-08-05 02:56'"
      ]
     },
     "execution_count": 20,
     "metadata": {},
     "output_type": "execute_result"
    }
   ],
   "source": [
    "from datetime import datetime\n",
    "\n",
    "t = 1217897793 # Unix-time\n",
    "ts = datetime.fromtimestamp(t).strftime('%Y-%m-%d %H:%M')\n",
    "ts"
   ]
  }
 ],
 "metadata": {
  "kernelspec": {
   "display_name": "Python 3 (ipykernel)",
   "language": "python",
   "name": "python3"
  },
  "language_info": {
   "codemirror_mode": {
    "name": "ipython",
    "version": 3
   },
   "file_extension": ".py",
   "mimetype": "text/x-python",
   "name": "python",
   "nbconvert_exporter": "python",
   "pygments_lexer": "ipython3",
   "version": "3.9.7"
  },
  "latex_envs": {
   "LaTeX_envs_menu_present": true,
   "autocomplete": true,
   "bibliofile": "biblio.bib",
   "cite_by": "apalike",
   "current_citInitial": 1,
   "eqLabelWithNumbers": true,
   "eqNumInitial": 1,
   "hotkeys": {
    "equation": "Ctrl-E",
    "itemize": "Ctrl-I"
   },
   "labels_anchors": false,
   "latex_user_defs": false,
   "report_style_numbering": false,
   "user_envs_cfg": false
  },
  "nbTranslate": {
   "displayLangs": [
    "sl"
   ],
   "hotkey": "alt-t",
   "langInMainMenu": true,
   "sourceLang": "sl",
   "targetLang": "en",
   "useGoogleTranslate": true
  }
 },
 "nbformat": 4,
 "nbformat_minor": 2
}
